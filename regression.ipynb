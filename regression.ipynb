{
 "cells": [
  {
   "cell_type": "code",
   "execution_count": 49,
   "id": "5c41c3e1",
   "metadata": {},
   "outputs": [],
   "source": [
    "import pandas as pd\n",
    "import matplotlib.pyplot as plt\n",
    "import numpy as np\n",
    "from imblearn.over_sampling import RandomOverSampler\n",
    "from sklearn.preprocessing import StandardScaler\n",
    "import copy\n",
    "import seaborn as sns\n",
    "import tensorflow as tf\n",
    "from sklearn.linear_model import LinearRegression"
   ]
  },
  {
   "cell_type": "markdown",
   "id": "a633897e",
   "metadata": {},
   "source": [
    "# Dataset\n",
    "\n",
    "data source:https://archive.ics.uci.edu/dataset/560/seoul+bike+sharing+demand"
   ]
  },
  {
   "cell_type": "code",
   "execution_count": 50,
   "id": "a2bff5c8",
   "metadata": {},
   "outputs": [],
   "source": [
    "dataset_cols = ['bike_count', 'hour', 'temp', 'humidity', 'wind', 'visibility', 'dew_pt_temp', 'radiation', 'rain', 'snow', 'functional']\n",
    "\n",
    "df = pd.read_csv('./datasets/SeoulBikeData.csv').drop([\"Date\", \"Holiday\", \"Seasons\", \"s)\", \"m2)\"], axis=1)\n"
   ]
  },
  {
   "cell_type": "code",
   "execution_count": 51,
   "id": "6c795ec6",
   "metadata": {},
   "outputs": [],
   "source": [
    "df.columns = dataset_cols\n",
    "df[\"functional\"] = (df[\"functional\"] == \"Yes\").astype(int)\n",
    "df = df.drop([\"hour\"], axis=1)\n"
   ]
  },
  {
   "cell_type": "code",
   "execution_count": 52,
   "id": "e88c9cfc",
   "metadata": {},
   "outputs": [
    {
     "data": {
      "application/vnd.microsoft.datawrangler.viewer.v0+json": {
       "columns": [
        {
         "name": "index",
         "rawType": "int64",
         "type": "integer"
        },
        {
         "name": "bike_count",
         "rawType": "int64",
         "type": "integer"
        },
        {
         "name": "temp",
         "rawType": "int64",
         "type": "integer"
        },
        {
         "name": "humidity",
         "rawType": "int64",
         "type": "integer"
        },
        {
         "name": "wind",
         "rawType": "float64",
         "type": "float"
        },
        {
         "name": "visibility",
         "rawType": "float64",
         "type": "float"
        },
        {
         "name": "dew_pt_temp",
         "rawType": "int64",
         "type": "integer"
        },
        {
         "name": "radiation",
         "rawType": "float64",
         "type": "float"
        },
        {
         "name": "rain",
         "rawType": "float64",
         "type": "float"
        },
        {
         "name": "snow",
         "rawType": "float64",
         "type": "float"
        },
        {
         "name": "functional",
         "rawType": "int64",
         "type": "integer"
        }
       ],
       "ref": "530b4a9a-b610-4fe8-89f8-6612d147d874",
       "rows": [
        [
         "0",
         "12",
         "254",
         "0",
         "-5.2",
         "2.2",
         "2000",
         "-17.6",
         "0.0",
         "0.0",
         "1"
        ],
        [
         "1",
         "12",
         "204",
         "1",
         "-5.5",
         "0.8",
         "2000",
         "-17.6",
         "0.0",
         "0.0",
         "1"
        ],
        [
         "2",
         "12",
         "173",
         "2",
         "-6.0",
         "1.0",
         "2000",
         "-17.7",
         "0.0",
         "0.0",
         "1"
        ],
        [
         "3",
         "12",
         "107",
         "3",
         "-6.2",
         "0.9",
         "2000",
         "-17.6",
         "0.0",
         "0.0",
         "1"
        ],
        [
         "4",
         "12",
         "78",
         "4",
         "-6.0",
         "2.3",
         "2000",
         "-18.6",
         "0.0",
         "0.0",
         "1"
        ]
       ],
       "shape": {
        "columns": 10,
        "rows": 5
       }
      },
      "text/html": [
       "<div>\n",
       "<style scoped>\n",
       "    .dataframe tbody tr th:only-of-type {\n",
       "        vertical-align: middle;\n",
       "    }\n",
       "\n",
       "    .dataframe tbody tr th {\n",
       "        vertical-align: top;\n",
       "    }\n",
       "\n",
       "    .dataframe thead th {\n",
       "        text-align: right;\n",
       "    }\n",
       "</style>\n",
       "<table border=\"1\" class=\"dataframe\">\n",
       "  <thead>\n",
       "    <tr style=\"text-align: right;\">\n",
       "      <th></th>\n",
       "      <th>bike_count</th>\n",
       "      <th>temp</th>\n",
       "      <th>humidity</th>\n",
       "      <th>wind</th>\n",
       "      <th>visibility</th>\n",
       "      <th>dew_pt_temp</th>\n",
       "      <th>radiation</th>\n",
       "      <th>rain</th>\n",
       "      <th>snow</th>\n",
       "      <th>functional</th>\n",
       "    </tr>\n",
       "  </thead>\n",
       "  <tbody>\n",
       "    <tr>\n",
       "      <th>0</th>\n",
       "      <td>12</td>\n",
       "      <td>254</td>\n",
       "      <td>0</td>\n",
       "      <td>-5.2</td>\n",
       "      <td>2.2</td>\n",
       "      <td>2000</td>\n",
       "      <td>-17.6</td>\n",
       "      <td>0.0</td>\n",
       "      <td>0.0</td>\n",
       "      <td>1</td>\n",
       "    </tr>\n",
       "    <tr>\n",
       "      <th>1</th>\n",
       "      <td>12</td>\n",
       "      <td>204</td>\n",
       "      <td>1</td>\n",
       "      <td>-5.5</td>\n",
       "      <td>0.8</td>\n",
       "      <td>2000</td>\n",
       "      <td>-17.6</td>\n",
       "      <td>0.0</td>\n",
       "      <td>0.0</td>\n",
       "      <td>1</td>\n",
       "    </tr>\n",
       "    <tr>\n",
       "      <th>2</th>\n",
       "      <td>12</td>\n",
       "      <td>173</td>\n",
       "      <td>2</td>\n",
       "      <td>-6.0</td>\n",
       "      <td>1.0</td>\n",
       "      <td>2000</td>\n",
       "      <td>-17.7</td>\n",
       "      <td>0.0</td>\n",
       "      <td>0.0</td>\n",
       "      <td>1</td>\n",
       "    </tr>\n",
       "    <tr>\n",
       "      <th>3</th>\n",
       "      <td>12</td>\n",
       "      <td>107</td>\n",
       "      <td>3</td>\n",
       "      <td>-6.2</td>\n",
       "      <td>0.9</td>\n",
       "      <td>2000</td>\n",
       "      <td>-17.6</td>\n",
       "      <td>0.0</td>\n",
       "      <td>0.0</td>\n",
       "      <td>1</td>\n",
       "    </tr>\n",
       "    <tr>\n",
       "      <th>4</th>\n",
       "      <td>12</td>\n",
       "      <td>78</td>\n",
       "      <td>4</td>\n",
       "      <td>-6.0</td>\n",
       "      <td>2.3</td>\n",
       "      <td>2000</td>\n",
       "      <td>-18.6</td>\n",
       "      <td>0.0</td>\n",
       "      <td>0.0</td>\n",
       "      <td>1</td>\n",
       "    </tr>\n",
       "  </tbody>\n",
       "</table>\n",
       "</div>"
      ],
      "text/plain": [
       "   bike_count  temp  humidity  wind  ...  radiation  rain  snow  functional\n",
       "0          12   254         0  -5.2  ...      -17.6   0.0   0.0           1\n",
       "1          12   204         1  -5.5  ...      -17.6   0.0   0.0           1\n",
       "2          12   173         2  -6.0  ...      -17.7   0.0   0.0           1\n",
       "3          12   107         3  -6.2  ...      -17.6   0.0   0.0           1\n",
       "4          12    78         4  -6.0  ...      -18.6   0.0   0.0           1\n",
       "\n",
       "[5 rows x 10 columns]"
      ]
     },
     "execution_count": 52,
     "metadata": {},
     "output_type": "execute_result"
    }
   ],
   "source": [
    "df.head()"
   ]
  }
 ],
 "metadata": {
  "kernelspec": {
   "display_name": "Python 3",
   "language": "python",
   "name": "python3"
  },
  "language_info": {
   "codemirror_mode": {
    "name": "ipython",
    "version": 3
   },
   "file_extension": ".py",
   "mimetype": "text/x-python",
   "name": "python",
   "nbconvert_exporter": "python",
   "pygments_lexer": "ipython3",
   "version": "3.13.7"
  }
 },
 "nbformat": 4,
 "nbformat_minor": 5
}
